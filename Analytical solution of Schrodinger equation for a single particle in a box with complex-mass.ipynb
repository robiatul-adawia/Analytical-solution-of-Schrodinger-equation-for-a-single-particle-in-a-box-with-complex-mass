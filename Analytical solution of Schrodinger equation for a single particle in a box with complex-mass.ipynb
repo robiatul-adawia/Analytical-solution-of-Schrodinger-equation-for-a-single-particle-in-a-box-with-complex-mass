{
 "cells": [
  {
   "cell_type": "markdown",
   "metadata": {},
   "source": [
    "## Solusi Analitik Persamaan Schrodinger Sistem Bermassa Kompleks Pada Potensial Kotak \n",
    "Solusi analitik dalam penyelesaian persamaan Schroedinger dengan sistem bermassa kompleks dimensi satu yang terdiri dari bagian riil $m_R=1$ (konstan) dan bagian imajjiner ($m_{I1}-$ dan $m_{I2}+$).\n",
    "<br> Last update: 08-Nov-2021"
   ]
  },
  {
   "cell_type": "code",
   "execution_count": 1,
   "metadata": {},
   "outputs": [],
   "source": [
    "#modul yang digunakan\n",
    "from sympy import symbols, lambdify, exp, I, sqrt, conjugate\n",
    "import matplotlib.pyplot as plt\n",
    "import numpy as np\n",
    "from scipy import optimize\n",
    "import scipy.integrate\n",
    "\n",
    "#Pengenalan variabel sebagai simbol menggunakan modul sympy\n",
    "#variabel pada persamaan\n",
    "k1, k2 = symbols('k1 k2')\n",
    "m1, m2 = symbols('m1 m2')\n",
    "v1, v2 = symbols('v1 v2')\n",
    "L, En, h_bar, x = symbols('L En hbar x')"
   ]
  },
  {
   "cell_type": "markdown",
   "metadata": {},
   "source": [
    "Membuat persamaan (3.37):\n",
    "<br>$f(k_1,k_2)=k_1(1-e^{2ik_2L})(1+e^{-2ik_1L})-k_2(1-e^{-2ik_1L})(1+e^{2ik_2L})=0$."
   ]
  },
  {
   "cell_type": "code",
   "execution_count": 2,
   "metadata": {},
   "outputs": [
    {
     "data": {
      "text/latex": [
       "$\\displaystyle k_{1} \\left(1 + e^{- 2 i L k_{1}}\\right) \\left(1 - e^{2 i L k_{2}}\\right) - k_{2} \\left(1 - e^{- 2 i L k_{1}}\\right) \\left(e^{2 i L k_{2}} + 1\\right)$"
      ],
      "text/plain": [
       "k1*(1 + exp(-2*I*L*k1))*(1 - exp(2*I*L*k2)) - k2*(1 - exp(-2*I*L*k1))*(exp(2*I*L*k2) + 1)"
      ]
     },
     "execution_count": 2,
     "metadata": {},
     "output_type": "execute_result"
    }
   ],
   "source": [
    "f = k1*(1-exp(I*k2*2*L))*(1+exp(-I*k1*2*L))-(k2*(1-exp(-I*k1*2*L))*(1+exp(I*k2*2*L)))\n",
    "f"
   ]
  },
  {
   "cell_type": "markdown",
   "metadata": {},
   "source": [
    "Kemudian subtitusi $k=\\sqrt{2m(E-V)}/\\hbar$ dengan energi sehingga fungsi menjadi $f(E)=0$ (3.38). Subtitusi $V=0$."
   ]
  },
  {
   "cell_type": "code",
   "execution_count": 3,
   "metadata": {
    "scrolled": true
   },
   "outputs": [
    {
     "data": {
      "text/latex": [
       "$\\displaystyle - \\frac{\\sqrt{2} \\sqrt{m_{1}} e^{\\frac{2 \\sqrt{2} i L \\sqrt{m_{2}}}{\\hbar}}}{\\hbar} + \\frac{\\sqrt{2} \\sqrt{m_{1}}}{\\hbar} - \\frac{\\sqrt{2} \\sqrt{m_{1}} e^{- \\frac{2 \\sqrt{2} i L \\sqrt{m_{1}}}{\\hbar}} e^{\\frac{2 \\sqrt{2} i L \\sqrt{m_{2}}}{\\hbar}}}{\\hbar} + \\frac{\\sqrt{2} \\sqrt{m_{1}} e^{- \\frac{2 \\sqrt{2} i L \\sqrt{m_{1}}}{\\hbar}}}{\\hbar} - \\frac{\\sqrt{2} \\sqrt{m_{2}} e^{\\frac{2 \\sqrt{2} i L \\sqrt{m_{2}}}{\\hbar}}}{\\hbar} - \\frac{\\sqrt{2} \\sqrt{m_{2}}}{\\hbar} + \\frac{\\sqrt{2} \\sqrt{m_{2}} e^{- \\frac{2 \\sqrt{2} i L \\sqrt{m_{1}}}{\\hbar}} e^{\\frac{2 \\sqrt{2} i L \\sqrt{m_{2}}}{\\hbar}}}{\\hbar} + \\frac{\\sqrt{2} \\sqrt{m_{2}} e^{- \\frac{2 \\sqrt{2} i L \\sqrt{m_{1}}}{\\hbar}}}{\\hbar}$"
      ],
      "text/plain": [
       "-sqrt(2)*sqrt(m1)*exp(2*sqrt(2)*I*L*sqrt(m2)/hbar)/hbar + sqrt(2)*sqrt(m1)/hbar - sqrt(2)*sqrt(m1)*exp(-2*sqrt(2)*I*L*sqrt(m1)/hbar)*exp(2*sqrt(2)*I*L*sqrt(m2)/hbar)/hbar + sqrt(2)*sqrt(m1)*exp(-2*sqrt(2)*I*L*sqrt(m1)/hbar)/hbar - sqrt(2)*sqrt(m2)*exp(2*sqrt(2)*I*L*sqrt(m2)/hbar)/hbar - sqrt(2)*sqrt(m2)/hbar + sqrt(2)*sqrt(m2)*exp(-2*sqrt(2)*I*L*sqrt(m1)/hbar)*exp(2*sqrt(2)*I*L*sqrt(m2)/hbar)/hbar + sqrt(2)*sqrt(m2)*exp(-2*sqrt(2)*I*L*sqrt(m1)/hbar)/hbar"
      ]
     },
     "execution_count": 3,
     "metadata": {},
     "output_type": "execute_result"
    }
   ],
   "source": [
    "fE = f.subs([(k1, sqrt(2*m1)/h_bar), (k2, sqrt(2*m2)/h_bar)])\n",
    "fE.expand()"
   ]
  },
  {
   "cell_type": "markdown",
   "metadata": {},
   "source": [
    "### Menentukan Energi\n",
    "Variabel perkalian massa dengan energi $En$: <br>$m_1=E_n-iE_nm_I$ dan $m_2=E_n+iE_nm_I$ \n",
    "<br>Subtitusi nilai semua variabel kecuali pada variabel $E_n$"
   ]
  },
  {
   "cell_type": "code",
   "execution_count": 4,
   "metadata": {},
   "outputs": [
    {
     "data": {
      "text/latex": [
       "$\\displaystyle - \\sqrt{2} \\left(1 - e^{- 10 \\sqrt{2} i \\sqrt{En - 0.1 i En}}\\right) \\left(e^{10 \\sqrt{2} i \\sqrt{\\overline{En} + 0.1 i \\overline{En}}} + 1\\right) \\sqrt{\\overline{En} + 0.1 i \\overline{En}} + \\sqrt{2} \\left(1 + e^{- 10 \\sqrt{2} i \\sqrt{En - 0.1 i En}}\\right) \\left(1 - e^{10 \\sqrt{2} i \\sqrt{\\overline{En} + 0.1 i \\overline{En}}}\\right) \\sqrt{En - 0.1 i En}$"
      ],
      "text/plain": [
       "-sqrt(2)*(1 - exp(-10*sqrt(2)*I*sqrt(En - 0.1*I*En)))*(exp(10*sqrt(2)*I*sqrt(conjugate(En) + 0.1*I*conjugate(En))) + 1)*sqrt(conjugate(En) + 0.1*I*conjugate(En)) + sqrt(2)*(1 + exp(-10*sqrt(2)*I*sqrt(En - 0.1*I*En)))*(1 - exp(10*sqrt(2)*I*sqrt(conjugate(En) + 0.1*I*conjugate(En))))*sqrt(En - 0.1*I*En)"
      ]
     },
     "execution_count": 4,
     "metadata": {},
     "output_type": "execute_result"
    }
   ],
   "source": [
    "#subtitusi v1=v2=0, panjang kotak [-5,5]\n",
    "pot1 = 0\n",
    "pot2 = 0\n",
    "hbar = 1\n",
    "length = 5\n",
    "\n",
    "#definisikan massaxEnergi\n",
    "mi = 0.1\n",
    "mass1En = En - I*En*mi\n",
    "mass2En = conjugate(mass1En)\n",
    "\n",
    "fE_val = fE.subs([(v1, pot1), (v2, pot2), (m1, mass1En), (m2, mass2En), (h_bar, hbar), (L, length)])\n",
    "fE_val"
   ]
  },
  {
   "cell_type": "markdown",
   "metadata": {},
   "source": [
    "Ubah variabel sympy ke numpy menggunakan fungsi lambdify sehingga persamaan bisa diselesaikan:"
   ]
  },
  {
   "cell_type": "code",
   "execution_count": 5,
   "metadata": {},
   "outputs": [],
   "source": [
    "gE = lambdify(En, fE_val)"
   ]
  },
  {
   "cell_type": "markdown",
   "metadata": {},
   "source": [
    "Energi ditentukan dengan cara mencari titik yang menghasilkan $g(E) = 0$ menggunakan bantuan grafik."
   ]
  },
  {
   "cell_type": "code",
   "execution_count": 6,
   "metadata": {},
   "outputs": [],
   "source": [
    "N = 100\n",
    "\n",
    "#cari dimana titik energi sistem pada sekitaran En = 0 sampai En = 2 dengan 50 digit\n",
    "n_energy = 0.9\n",
    "energy = np.linspace(0, n_energy, (N//2))\n",
    "\n",
    "#cari energi bagian imajiner dan realnya\n",
    "gE_imag = np.imag(gE(energy))\n",
    "gE_real = np.real(gE(energy))"
   ]
  },
  {
   "cell_type": "code",
   "execution_count": 7,
   "metadata": {},
   "outputs": [
    {
     "data": {
      "image/png": "[encoded data removed]",
      "text/plain": [
       "<Figure size 432x288 with 1 Axes>"
      ]
     },
     "metadata": {
      "needs_background": "light"
     },
     "output_type": "display_data"
    }
   ],
   "source": [
    "#buatkan grafik untuk gE bagian imajiner\n",
    "plt.plot(energy, gE_imag, '-r')\n",
    "plt.plot(energy, gE_real, '-b')\n",
    "plt.hlines(0, 0, n_energy)\n",
    "plt.show()"
   ]
  },
  {
   "cell_type": "markdown",
   "metadata": {},
   "source": [
    "Menentukan nilai energi $E_n$ sebenarnya dengan metode Newton-Raphson yang dimana metode ini sudah ada pada python yaitu fungsi \"root finding\" pada modul scipy."
   ]
  },
  {
   "cell_type": "code",
   "execution_count": 8,
   "metadata": {},
   "outputs": [
    {
     "data": {
      "text/plain": [
       "(0.0494721036906509+4.0680317007382895e-19j)"
      ]
     },
     "execution_count": 8,
     "metadata": {},
     "output_type": "execute_result"
    }
   ],
   "source": [
    "#keadaan sistem n = 0,1,2,...\n",
    "n = 0\n",
    "\n",
    "#fungsi \"root finding\" dengan metode Newton-Raphson\n",
    "E = optimize.newton(gE, 0.05)\n",
    "E"
   ]
  },
  {
   "cell_type": "markdown",
   "metadata": {},
   "source": [
    "### Menentukan Fungsi Gelombang\n",
    "Selanjutnya menentukan koefisien $A_2$ untuk mendapatkan fungsi gelombang yang ternormalisasi."
   ]
  },
  {
   "cell_type": "code",
   "execution_count": 9,
   "metadata": {},
   "outputs": [],
   "source": [
    "#definisi nilai variabel-variabel dengan memasukkan nilai energi\n",
    "L = length\n",
    "En = E.real\n",
    "\n",
    "mass_i = complex(0, mi)\n",
    "m1En = En - En*mass_i\n",
    "m2En = En + En*mass_i\n",
    "\n",
    "k1 = np.sqrt(2*m1En)/hbar\n",
    "k2 = np.sqrt(2*m2En)/hbar"
   ]
  },
  {
   "cell_type": "code",
   "execution_count": 10,
   "metadata": {},
   "outputs": [
    {
     "data": {
      "text/latex": [
       "$\\displaystyle \\frac{\\left(1 - e^{10 i \\left(0.314945951825507 + 0.0157081249668072 i\\right)}\\right) \\left(e^{i x \\left(0.314945951825507 - 0.0157081249668072 i\\right)} - e^{- i \\left(0.314945951825507 - 0.0157081249668072 i\\right) \\left(x + 10\\right)}\\right)}{1 - e^{- 10 i \\left(0.314945951825507 - 0.0157081249668072 i\\right)}}$"
      ],
      "text/plain": [
       "(1 - exp(10*I*(0.314945951825507 + 0.0157081249668072*I)))*(exp(I*x*(0.314945951825507 - 0.0157081249668072*I)) - exp(-I*(0.314945951825507 - 0.0157081249668072*I)*(x + 10)))/(1 - exp(-10*I*(0.314945951825507 - 0.0157081249668072*I)))"
      ]
     },
     "execution_count": 10,
     "metadata": {},
     "output_type": "execute_result"
    }
   ],
   "source": [
    "#fungsi gelombang belum dinormalisasi\n",
    "#koef A1 untuk mi=0\n",
    "#EVEN, n=0,2,4,6\n",
    "#A1 = -(k2*(1+exp(I*k2*2*L)))/(k1*(1+exp(-I*k1*2*L)))\n",
    "#ODD, n=1,3,5\n",
    "#A1 = (k2*(1+exp(I*k2*2*L)))/(k1*(1+exp(-I*k1*2*L)))\n",
    "\n",
    "#koef A1 untuk mi != 0\n",
    "A1 = (1 - exp(I*k2*2*L))/(1 - exp(-I*k1*2*L))\n",
    "\n",
    "psi1 = A1*(exp(I*k1*x) - exp(-I*k1*(x+(2*L))))\n",
    "psi2 = exp(I*k2*x) - exp(-I*k2*(x-(2*L)))\n",
    "\n",
    "psi1"
   ]
  },
  {
   "cell_type": "code",
   "execution_count": 11,
   "metadata": {},
   "outputs": [],
   "source": [
    "#ubah fungsi gelombang dari sympy ke numpy\n",
    "psi1x = lambdify(x, psi1)\n",
    "psi2x = lambdify(x, psi2)\n",
    "\n",
    "\n",
    "#definisi sumbu-x, jarak antar titik data dx=0,1\n",
    "x1 = np.arange(-5,0,0.1) #50 data\n",
    "x2 = np.arange(0,5.1, 0.1) #51 data\n",
    "\n",
    "#nilai psi1(x) dan psi2(x) belum ternormalisasi\n",
    "psi1x1 = psi1x(x1)\n",
    "psi2x2 = psi2x(x2)"
   ]
  },
  {
   "cell_type": "markdown",
   "metadata": {},
   "source": [
    "Normalisasi menggunakan persamaan(3.6)"
   ]
  },
  {
   "cell_type": "code",
   "execution_count": 12,
   "metadata": {},
   "outputs": [
    {
     "data": {
      "text/plain": [
       "4.147983355151259"
      ]
     },
     "execution_count": 12,
     "metadata": {},
     "output_type": "execute_result"
    }
   ],
   "source": [
    "#Normalisasi: menentukan koefisien A2\n",
    "prob1 = np.sum(np.conjugate(psi1x1)*psi1x1)\n",
    "prob2 = np.sum(np.conjugate(psi2x2)*psi2x2)\n",
    "\n",
    "dx = 2*L/N\n",
    "norm = float(np.sqrt((prob1+prob2)*dx).real)\n",
    "norm"
   ]
  },
  {
   "cell_type": "code",
   "execution_count": 13,
   "metadata": {},
   "outputs": [],
   "source": [
    "#fungsi gelombang ternormalisasi dan konjugatnya\n",
    "psi1_norm = psi1/norm\n",
    "psi2_norm = psi2/norm\n",
    "\n",
    "# ubah sympy ke numpy: fungsi gelombang ternormalisasi bergantung x\n",
    "psi1x_norm = lambdify(x, psi1_norm)\n",
    "psi2x_norm = lambdify(x, psi2_norm)\n",
    "\n",
    "psi1x_norm_conj =lambdify(x, conjugate(psi1_norm))\n",
    "psi2x_norm_conj = lambdify(x, conjugate(psi2_norm))"
   ]
  },
  {
   "cell_type": "markdown",
   "metadata": {},
   "source": [
    "### Menghitung Arus Densitas Probabilitas $j(x)$\n",
    "$j(x)=\\Large\\frac{\\hbar}{2im}(\\small\\psi^{*}(x)\\Large\\frac{d\\psi(x)}{dx}\\small-\\psi(x)\\Large\\frac{d\\psi^{*}(x)}{dx})$\n",
    "<br><br>Selesaikan bagian turunannya terlebih dahulu:"
   ]
  },
  {
   "cell_type": "code",
   "execution_count": 14,
   "metadata": {},
   "outputs": [],
   "source": [
    "#ambil langkah selebar h\n",
    "h = dx\n",
    "#turunan psi dan konjugatnya\n",
    "dpsi1 = (psi1x_norm(x1+h) - psi1x_norm(x1-h))/(2*h)\n",
    "dpsi2 = (psi2x_norm(x2+h) - psi2x_norm(x2-h))/(2*h)\n",
    "\n",
    "dpsi1_conj1 = (psi1x_norm_conj(x1+h) - psi1x_norm_conj(x1-h))/(2*h)\n",
    "dpsi2_conj2 = (psi2x_norm_conj(x2+h) - psi2x_norm_conj(x2-h))/(2*h)"
   ]
  },
  {
   "cell_type": "markdown",
   "metadata": {},
   "source": [
    "Lalu kumpulkan semua komponen untuk menghitung arus"
   ]
  },
  {
   "cell_type": "code",
   "execution_count": 15,
   "metadata": {},
   "outputs": [
    {
     "data": {
      "text/plain": [
       "51"
      ]
     },
     "execution_count": 15,
     "metadata": {},
     "output_type": "execute_result"
    }
   ],
   "source": [
    "#persamaan arus densitas j(x)\n",
    "m1 = m1En/En\n",
    "m2 = m2En/En\n",
    "j1 = (-0.5j/m1)*(psi1x_norm_conj(x1)*dpsi1 - psi1x_norm(x1)*dpsi1_conj1)\n",
    "j2 = (-0.5j/m2)*(psi2x_norm_conj(x2)*dpsi2 - psi2x_norm(x2)*dpsi2_conj2)\n",
    "len(j2)"
   ]
  },
  {
   "cell_type": "markdown",
   "metadata": {},
   "source": [
    "### Menampilkan Grafik"
   ]
  },
  {
   "cell_type": "code",
   "execution_count": 16,
   "metadata": {},
   "outputs": [
    {
     "data": {
      "text/plain": [
       "101"
      ]
     },
     "execution_count": 16,
     "metadata": {},
     "output_type": "execute_result"
    }
   ],
   "source": [
    "#gabungkan variabel sumbu x, fungsi gelombang, dan arus\n",
    "x = np.concatenate((x1, x2))\n",
    "psi = np.concatenate((psi1x_norm(x1), psi2x_norm(x2)))\n",
    "j = np.concatenate((j1, j2))\n",
    "len(j)"
   ]
  },
  {
   "cell_type": "markdown",
   "metadata": {},
   "source": [
    "Menampilkan grafik fungsi gelombang dan arus densitas probabilitas"
   ]
  },
  {
   "cell_type": "code",
   "execution_count": 17,
   "metadata": {},
   "outputs": [
    {
     "data": {
      "image/png": "[encoded data removed]",
      "text/plain": [
       "<Figure size 432x288 with 1 Axes>"
      ]
     },
     "metadata": {
      "needs_background": "light"
     },
     "output_type": "display_data"
    }
   ],
   "source": [
    "#buat grafik fungsi gelombang\n",
    "plt.xlabel('$x$')\n",
    "plt.ylabel('$\\psi(x)$')\n",
    "\n",
    "plt.plot(x, psi.real, 'xr')\n",
    "plt.plot(x, psi.imag, '--b')\n",
    "plt.plot(x, np.absolute(psi), 'g')\n",
    "plt.xticks(np.arange(-5, 6))\n",
    "\n",
    "plt.legend([\"riil\", \"imajiner\", \"absolut\"], loc= \"upper right\", prop={'size':10})\n",
    "plt.savefig('E:\\\\scriptpsi\\\\grafik\\\\fungsigelombang\\\\psi_ana_m'+ str(mi) +'n' + str(n)+'.png', dpi=500,  bbox_inches=\"tight\")\n",
    "plt.show()"
   ]
  },
  {
   "cell_type": "code",
   "execution_count": 18,
   "metadata": {},
   "outputs": [
    {
     "data": {
      "image/png": "[encoded data removed]",
      "text/plain": [
       "<Figure size 432x288 with 1 Axes>"
      ]
     },
     "metadata": {
      "needs_background": "light"
     },
     "output_type": "display_data"
    }
   ],
   "source": [
    "#buatkan grafik arus densitas bagian riil\n",
    "plt.xlabel('$x$')\n",
    "plt.ylabel ('$j(x)$ riil')\n",
    "\n",
    "plt.plot(x, j.real)\n",
    "plt.xticks(np.arange(-5, 6))\n",
    "\n",
    "plt.savefig('E:\\\\scriptpsi\\\\grafik\\\\arus\\\\j_ana_m'+ str(mi) +'n' + str(n)+'.png', dpi=500,  bbox_inches=\"tight\")\n",
    "plt.show()"
   ]
  },
  {
   "cell_type": "markdown",
   "metadata": {},
   "source": [
    "### Simpan data dalam file .csv\n",
    "Menyimpan data fungsi gelombang dan densitas probabilitas arus ke local disk E"
   ]
  },
  {
   "cell_type": "code",
   "execution_count": 19,
   "metadata": {},
   "outputs": [],
   "source": [
    "#simpan array sebagai file csv\n",
    "from numpy import asarray\n",
    "from numpy import savetxt\n",
    "\n",
    "#simpan fungsi gelombang\n",
    "savetxt('E:\\scriptpsi\\data\\psi_ana_realm'+str(mi)+'n'+str(n)+'.csv', psi.real, delimiter=',')\n",
    "savetxt('E:\\scriptpsi\\data\\psi_ana_imagm'+str(mi)+'n'+str(n)+'.csv', psi.imag, delimiter=',')\n",
    "savetxt('E:\\scriptpsi\\data\\psi_ana_absm'+str(mi)+'n'+str(n)+'.csv', np.absolute(psi), delimiter=',')\n",
    "\n",
    "#simpan arus densitas\n",
    "savetxt('E:\\scriptpsi\\data\\j_ana_realm'+str(mi)+'n'+str(n)+'.csv', j.real, delimiter=',')"
   ]
  },
  {
   "cell_type": "code",
   "execution_count": null,
   "metadata": {},
   "outputs": [],
   "source": []
  }
 ],
 "metadata": {
  "kernelspec": {
   "display_name": "Python 3",
   "language": "python",
   "name": "python3"
  },
  "language_info": {
   "codemirror_mode": {
    "name": "ipython",
    "version": 3
   },
   "file_extension": ".py",
   "mimetype": "text/x-python",
   "name": "python",
   "nbconvert_exporter": "python",
   "pygments_lexer": "ipython3",
   "version": "3.7.4"
  }
 },
 "nbformat": 4,
 "nbformat_minor": 4
}
